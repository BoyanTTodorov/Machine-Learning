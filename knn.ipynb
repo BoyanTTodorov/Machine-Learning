{
 "cells": [
  {
   "cell_type": "markdown",
   "id": "db529ed4",
   "metadata": {},
   "source": [
    "# K-Nearest Neighbors (KNN)\n",
    "- **Euclidean Distance** calculates the straight-line distance between points.\n",
    "- **KNN for Classification** predicts the most frequent class label among the \\( k \\)-nearest neighbors.\n",
    "- **KNN for Regression** predicts the average value of the \\( k \\)-nearest neighbors."
   ]
  },
  {
   "cell_type": "code",
   "execution_count": 57,
   "id": "01235720",
   "metadata": {},
   "outputs": [
    {
     "name": "stdout",
     "output_type": "stream",
     "text": [
      "Error occure: {e}\n",
      "Libray: numpy is already installed\n",
      "Libray: pandas is already installed\n",
      "Libray: matplotlib is already installed\n",
      "Installing scikit-learn\n",
      "Libray: seaborn is already installed\n",
      "Libraries imported successfull!\n"
     ]
    }
   ],
   "source": [
    "# Checking if pip is up to date\n",
    "import subprocess\n",
    "try:\n",
    "    # This will fail if you are using p\n",
    "    subprocess.check_call(['pip', 'install', '--upgrade', 'pip'])\n",
    "    print('pip upgraded successfully!')\n",
    "except subprocess.CalledProcessError as e:\n",
    "    print('Error occure: {e}')\n",
    "# Creating array with required libraries\n",
    "required_libraries = ['numpy', 'pandas', 'matplotlib', 'scikit-learn', 'seaborn']\n",
    "# Loop to check if libraries are installed\n",
    "for library in required_libraries:\n",
    "    try:\n",
    "        __import__(library)\n",
    "        print(f'Libray: {library} is already installed')\n",
    "    except ImportError:\n",
    "        print(f'Installing {library}')\n",
    "        try:\n",
    "            subprocess.check_call(['pip', 'install', library])\n",
    "        except subprocess.CalledProcessError as e:\n",
    "            print(f'Error occure {e}')\n",
    "\n",
    "# Importing Libraries\n",
    "import numpy as np\n",
    "import pandas as pd\n",
    "import matplotlib.pyplot as plt\n",
    "from sklearn.neighbors import KNeighborsClassifier\n",
    "from sklearn.preprocessing import LabelEncoder\n",
    "from sklearn.metrics import accuracy_score\n",
    "from sklearn.model_selection import train_test_split\n",
    "# Instead of creating DataFrame\n",
    "from sklearn.datasets import make_classification\n",
    "from sklearn.datasets import load_iris\n",
    "print(f'Libraries imported successfull!')"
   ]
  },
  {
   "cell_type": "code",
   "execution_count": 58,
   "id": "6bfd8323",
   "metadata": {},
   "outputs": [
    {
     "data": {
      "application/vnd.microsoft.datawrangler.viewer.v0+json": {
       "columns": [
        {
         "name": "index",
         "rawType": "int64",
         "type": "integer"
        },
        {
         "name": "sepal length (cm)",
         "rawType": "float64",
         "type": "float"
        },
        {
         "name": "sepal width (cm)",
         "rawType": "float64",
         "type": "float"
        },
        {
         "name": "petal length (cm)",
         "rawType": "float64",
         "type": "float"
        },
        {
         "name": "petal width (cm)",
         "rawType": "float64",
         "type": "float"
        },
        {
         "name": "species",
         "rawType": "int64",
         "type": "integer"
        }
       ],
       "conversionMethod": "pd.DataFrame",
       "ref": "26837f24-ad58-4adf-865b-2d3713ba6daa",
       "rows": [
        [
         "0",
         "5.1",
         "3.5",
         "1.4",
         "0.2",
         "0"
        ],
        [
         "1",
         "4.9",
         "3.0",
         "1.4",
         "0.2",
         "0"
        ],
        [
         "2",
         "4.7",
         "3.2",
         "1.3",
         "0.2",
         "0"
        ],
        [
         "3",
         "4.6",
         "3.1",
         "1.5",
         "0.2",
         "0"
        ],
        [
         "4",
         "5.0",
         "3.6",
         "1.4",
         "0.2",
         "0"
        ],
        [
         "5",
         "5.4",
         "3.9",
         "1.7",
         "0.4",
         "0"
        ],
        [
         "6",
         "4.6",
         "3.4",
         "1.4",
         "0.3",
         "0"
        ],
        [
         "7",
         "5.0",
         "3.4",
         "1.5",
         "0.2",
         "0"
        ],
        [
         "8",
         "4.4",
         "2.9",
         "1.4",
         "0.2",
         "0"
        ],
        [
         "9",
         "4.9",
         "3.1",
         "1.5",
         "0.1",
         "0"
        ]
       ],
       "shape": {
        "columns": 5,
        "rows": 10
       }
      },
      "text/html": [
       "<div>\n",
       "<style scoped>\n",
       "    .dataframe tbody tr th:only-of-type {\n",
       "        vertical-align: middle;\n",
       "    }\n",
       "\n",
       "    .dataframe tbody tr th {\n",
       "        vertical-align: top;\n",
       "    }\n",
       "\n",
       "    .dataframe thead th {\n",
       "        text-align: right;\n",
       "    }\n",
       "</style>\n",
       "<table border=\"1\" class=\"dataframe\">\n",
       "  <thead>\n",
       "    <tr style=\"text-align: right;\">\n",
       "      <th></th>\n",
       "      <th>sepal length (cm)</th>\n",
       "      <th>sepal width (cm)</th>\n",
       "      <th>petal length (cm)</th>\n",
       "      <th>petal width (cm)</th>\n",
       "      <th>species</th>\n",
       "    </tr>\n",
       "  </thead>\n",
       "  <tbody>\n",
       "    <tr>\n",
       "      <th>0</th>\n",
       "      <td>5.1</td>\n",
       "      <td>3.5</td>\n",
       "      <td>1.4</td>\n",
       "      <td>0.2</td>\n",
       "      <td>0</td>\n",
       "    </tr>\n",
       "    <tr>\n",
       "      <th>1</th>\n",
       "      <td>4.9</td>\n",
       "      <td>3.0</td>\n",
       "      <td>1.4</td>\n",
       "      <td>0.2</td>\n",
       "      <td>0</td>\n",
       "    </tr>\n",
       "    <tr>\n",
       "      <th>2</th>\n",
       "      <td>4.7</td>\n",
       "      <td>3.2</td>\n",
       "      <td>1.3</td>\n",
       "      <td>0.2</td>\n",
       "      <td>0</td>\n",
       "    </tr>\n",
       "    <tr>\n",
       "      <th>3</th>\n",
       "      <td>4.6</td>\n",
       "      <td>3.1</td>\n",
       "      <td>1.5</td>\n",
       "      <td>0.2</td>\n",
       "      <td>0</td>\n",
       "    </tr>\n",
       "    <tr>\n",
       "      <th>4</th>\n",
       "      <td>5.0</td>\n",
       "      <td>3.6</td>\n",
       "      <td>1.4</td>\n",
       "      <td>0.2</td>\n",
       "      <td>0</td>\n",
       "    </tr>\n",
       "    <tr>\n",
       "      <th>5</th>\n",
       "      <td>5.4</td>\n",
       "      <td>3.9</td>\n",
       "      <td>1.7</td>\n",
       "      <td>0.4</td>\n",
       "      <td>0</td>\n",
       "    </tr>\n",
       "    <tr>\n",
       "      <th>6</th>\n",
       "      <td>4.6</td>\n",
       "      <td>3.4</td>\n",
       "      <td>1.4</td>\n",
       "      <td>0.3</td>\n",
       "      <td>0</td>\n",
       "    </tr>\n",
       "    <tr>\n",
       "      <th>7</th>\n",
       "      <td>5.0</td>\n",
       "      <td>3.4</td>\n",
       "      <td>1.5</td>\n",
       "      <td>0.2</td>\n",
       "      <td>0</td>\n",
       "    </tr>\n",
       "    <tr>\n",
       "      <th>8</th>\n",
       "      <td>4.4</td>\n",
       "      <td>2.9</td>\n",
       "      <td>1.4</td>\n",
       "      <td>0.2</td>\n",
       "      <td>0</td>\n",
       "    </tr>\n",
       "    <tr>\n",
       "      <th>9</th>\n",
       "      <td>4.9</td>\n",
       "      <td>3.1</td>\n",
       "      <td>1.5</td>\n",
       "      <td>0.1</td>\n",
       "      <td>0</td>\n",
       "    </tr>\n",
       "  </tbody>\n",
       "</table>\n",
       "</div>"
      ],
      "text/plain": [
       "   sepal length (cm)  sepal width (cm)  petal length (cm)  petal width (cm)  \\\n",
       "0                5.1               3.5                1.4               0.2   \n",
       "1                4.9               3.0                1.4               0.2   \n",
       "2                4.7               3.2                1.3               0.2   \n",
       "3                4.6               3.1                1.5               0.2   \n",
       "4                5.0               3.6                1.4               0.2   \n",
       "5                5.4               3.9                1.7               0.4   \n",
       "6                4.6               3.4                1.4               0.3   \n",
       "7                5.0               3.4                1.5               0.2   \n",
       "8                4.4               2.9                1.4               0.2   \n",
       "9                4.9               3.1                1.5               0.1   \n",
       "\n",
       "   species  \n",
       "0        0  \n",
       "1        0  \n",
       "2        0  \n",
       "3        0  \n",
       "4        0  \n",
       "5        0  \n",
       "6        0  \n",
       "7        0  \n",
       "8        0  \n",
       "9        0  "
      ]
     },
     "execution_count": 58,
     "metadata": {},
     "output_type": "execute_result"
    }
   ],
   "source": [
    "data = load_iris()\n",
    "df = pd.DataFrame(data.data, columns=data.feature_names) \n",
    "df['species'] = data.target\n",
    "df.head(10)"
   ]
  },
  {
   "cell_type": "code",
   "execution_count": 59,
   "id": "e3ea3991",
   "metadata": {},
   "outputs": [],
   "source": [
    "# Split the data for training and testing\n",
    "X_train, X_test, y_train, y_test = train_test_split(data.data, data.target, test_size=0.3, random_state=21, stratify=data.target)\n",
    "# Saving test results\n",
    "train_accuracies = {}\n",
    "test_accuracies = {}\n",
    "# Range of tests\n",
    "neighbors = np.arange(1, 15)\n",
    "for n in neighbors:\n",
    "    # Creating Model\n",
    "    knn = KNeighborsClassifier(n_neighbors=n)\n",
    "    # Training model\n",
    "    knn.fit(X_train, y_train)\n",
    "    # Assign accurace of training and test\n",
    "    train_accuracies[n] = knn.score(X_train, y_train)\n",
    "    test_accuracies[n] = knn.score(X_test, y_test)"
   ]
  },
  {
   "cell_type": "code",
   "execution_count": 60,
   "id": "842e02e8",
   "metadata": {},
   "outputs": [
    {
     "data": {
      "image/png": "[encoded data removed]",
      "text/plain": [
       "<Figure size 1200x600 with 1 Axes>"
      ]
     },
     "metadata": {},
     "output_type": "display_data"
    }
   ],
   "source": [
    "# Plotting accuraces\n",
    "plt.figure(figsize=(12,6))\n",
    "plt.title(\"KNN : Varying number of neighbors\")\n",
    "plt.plot(neighbors, train_accuracies.values(), label=\"Training accuracy\")\n",
    "plt.plot(neighbors, test_accuracies.values(), label=\"Testing accuracy\")\n",
    "plt.legend()\n",
    "plt.xlabel(\"Number of Neighbors\")\n",
    "plt.ylabel(\"Accuracy\")\n",
    "plt.show()"
   ]
  },
  {
   "cell_type": "code",
   "execution_count": 61,
   "id": "901b27c8",
   "metadata": {},
   "outputs": [
    {
     "name": "stdout",
     "output_type": "stream",
     "text": [
      "Optimal Train accuracy: 1.0 with n_neighbors=1\n",
      "Optimal Test accuracy: 0.9777777777777777 with n_neighbors=1\n"
     ]
    }
   ],
   "source": [
    "\n",
    "optimal_train_n = max(train_accuracies, key=train_accuracies.get)\n",
    "optimal_test_n = max(test_accuracies, key=test_accuracies.get)\n",
    "\n",
    "print(f'Optimal Train accuracy: {train_accuracies[optimal_train_n]} with n_neighbors={optimal_train_n}')\n",
    "print(f'Optimal Test accuracy: {test_accuracies[optimal_test_n]} with n_neighbors={optimal_test_n}')\n"
   ]
  }
 ],
 "metadata": {
  "kernelspec": {
   "display_name": "venv",
   "language": "python",
   "name": "python3"
  },
  "language_info": {
   "codemirror_mode": {
    "name": "ipython",
    "version": 3
   },
   "file_extension": ".py",
   "mimetype": "text/x-python",
   "name": "python",
   "nbconvert_exporter": "python",
   "pygments_lexer": "ipython3",
   "version": "3.12.4"
  }
 },
 "nbformat": 4,
 "nbformat_minor": 5
}
