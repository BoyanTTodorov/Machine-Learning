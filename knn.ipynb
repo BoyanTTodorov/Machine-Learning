{
 "cells": [
  {
   "cell_type": "markdown",
   "id": "db529ed4",
   "metadata": {},
   "source": [
    "# K-Nearest Neighbors (KNN)\n",
    "- **Euclidean Distance** calculates the straight-line distance between points.\n",
    "- **KNN for Classification** predicts the most frequent class label among the \\( k \\)-nearest neighbors.\n",
    "- **KNN for Regression** predicts the average value of the \\( k \\)-nearest neighbors."
   ]
  },
  {
   "cell_type": "code",
   "execution_count": null,
   "id": "01235720",
   "metadata": {},
   "outputs": [
    {
     "name": "stdout",
     "output_type": "stream",
     "text": [
      "Error occure: {e}\n",
      "Libray: numpy is already installed\n",
      "Libray: pandas is already installed\n",
      "Libray: matplotlib is already installed\n",
      "Installing scikit-learn\n",
      "Libray: seaborn is already installed\n",
      "Libraries imported successfull!\n"
     ]
    }
   ],
   "source": [
    "# Checking if pip is up to date\n",
    "import subprocess\n",
    "try:\n",
    "    # This will fail if you are using p\n",
    "    subprocess.check_call(['pip', 'install', '--upgrade', 'pip'])\n",
    "    print('pip upgraded successfully!')\n",
    "except subprocess.CalledProcessError as e:\n",
    "    print('Error occure: {e}')\n",
    "# Creating array with required libraries\n",
    "required_libraries = ['numpy', 'pandas', 'matplotlib', 'scikit-learn', 'seaborn']\n",
    "# Loop to check if libraries are installed\n",
    "for library in required_libraries:\n",
    "    try:\n",
    "        __import__(library)\n",
    "        print(f'Libray: {library} is already installed')\n",
    "    except ImportError:\n",
    "        print(f'Installing {library}')\n",
    "        try:\n",
    "            subprocess.check_call(['pip', 'install', library])\n",
    "        except subprocess.CalledProcessError as e:\n",
    "            print(f'Error occure {e}')\n",
    "\n",
    "# Importing Libraries\n",
    "import numpy as np\n",
    "import pandas as pd\n",
    "import matplotlib.pyplot as plt\n",
    "from sklearn.neighbors import KNeighborsClassifier\n",
    "from sklearn.preprocessing import LabelEncoder\n",
    "from sklearn.metrics import accuracy_score\n",
    "print(f'Libraries imported successfull!')"
   ]
  },
  {
   "cell_type": "code",
   "execution_count": null,
   "id": "6bfd8323",
   "metadata": {},
   "outputs": [
    {
     "name": "stdout",
     "output_type": "stream",
     "text": [
      "setuptools and wheel upgraded successfully!\n",
      "Error during upgrade: Command '['pip', 'install', '--upgrade', 'pip']' returned non-zero exit status 1.\n"
     ]
    }
   ],
   "source": [
    "# Creating random DataFrame \n"
   ]
  }
 ],
 "metadata": {
  "kernelspec": {
   "display_name": "venv",
   "language": "python",
   "name": "python3"
  },
  "language_info": {
   "codemirror_mode": {
    "name": "ipython",
    "version": 3
   },
   "file_extension": ".py",
   "mimetype": "text/x-python",
   "name": "python",
   "nbconvert_exporter": "python",
   "pygments_lexer": "ipython3",
   "version": "3.12.4"
  }
 },
 "nbformat": 4,
 "nbformat_minor": 5
}
