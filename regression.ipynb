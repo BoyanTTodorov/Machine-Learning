{
 "cells": [
  {
   "cell_type": "code",
   "execution_count": null,
   "id": "3b3c264a",
   "metadata": {},
   "outputs": [
    {
     "name": "stdout",
     "output_type": "stream",
     "text": [
      "Error occured Command '['pip', 'install', 'upgrade', 'pip']' returned non-zero exit status 1.\n"
     ]
    }
   ],
   "source": [
    "import subprocess\n",
    "\n",
    "try:\n",
    "    subprocess.check_call([\"pip\" ,\"install\", \"upgrade\", \"pip\"])\n",
    "    print(\"PIP is up to date\")\n",
    "except subprocess.CalledProcessError as e:\n",
    "    print(f\"Error occured {e}\")\n",
    "\n",
    "libs = [\"pandas\", \"matplotlib\", \"scikit-learn\"]\n",
    "\n",
    "for lib in libs:\n",
    "    try:\n",
    "        __import__(lib)\n",
    "    except ImportError:\n",
    "        try:\n",
    "            subprocess.check_call([\"pip\", \"install\", lib])\n",
    "        except subprocess.CalledProcessError as e:\n",
    "            print(f\"Exception occure {e}\")"
   ]
  },
  {
   "cell_type": "code",
   "execution_count": 13,
   "id": "b8a14c59",
   "metadata": {},
   "outputs": [
    {
     "name": "stdout",
     "output_type": "stream",
     "text": [
      "   sepal width (cm)  petal length (cm)  petal width (cm)\n",
      "0               3.5                1.4               0.2\n",
      "1               3.0                1.4               0.2\n",
      "2               3.2                1.3               0.2\n",
      "3               3.1                1.5               0.2\n",
      "4               3.6                1.4               0.2\n",
      "0    5.1\n",
      "1    4.9\n",
      "2    4.7\n",
      "3    4.6\n",
      "4    5.0\n",
      "Name: sepal length (cm), dtype: float64\n",
      "Mean Squared Error: 0.10212647866320382\n"
     ]
    }
   ],
   "source": [
    "\n",
    "import pandas as pd\n",
    "from sklearn.model_selection import train_test_split\n",
    "from sklearn.linear_model import LinearRegression\n",
    "from sklearn.metrics import mean_squared_error\n",
    "from sklearn.datasets import load_iris\n",
    "\n",
    "# Load the iris dataset\n",
    "iris = load_iris()\n",
    "df = pd.DataFrame(data=iris.data, columns=iris.feature_names)\n",
    "\n",
    "# Define features and target\n",
    "X = df.drop(columns=['sepal length (cm)'])\n",
    "y = df['sepal length (cm)']\n",
    "\n",
    "print(X.head())\n",
    "print(y.head())\n",
    "# Split the dataset into training and testing sets\n",
    "X_train, X_test, y_train, y_test = train_test_split(X, y, test_size=0.2, random_state=42)\n",
    "\n",
    "# Create a linear regression model\n",
    "model = LinearRegression()\n",
    "\n",
    "# Train the model\n",
    "model.fit(X_train, y_train)\n",
    "\n",
    "# Make predictions on the test set\n",
    "y_pred = model.predict(X_test)\n",
    "\n",
    "# Calculate the mean squared error of the predictions\n",
    "mse = mean_squared_error(y_test, y_pred)\n",
    "\n",
    "print(f\"Mean Squared Error: {mse}\")\n"
   ]
  }
 ],
 "metadata": {
  "kernelspec": {
   "display_name": "venv",
   "language": "python",
   "name": "python3"
  },
  "language_info": {
   "codemirror_mode": {
    "name": "ipython",
    "version": 3
   },
   "file_extension": ".py",
   "mimetype": "text/x-python",
   "name": "python",
   "nbconvert_exporter": "python",
   "pygments_lexer": "ipython3",
   "version": "3.12.4"
  }
 },
 "nbformat": 4,
 "nbformat_minor": 5
}
